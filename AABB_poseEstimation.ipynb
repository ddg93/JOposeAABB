{
  "nbformat": 4,
  "nbformat_minor": 0,
  "metadata": {
    "colab": {
      "provenance": [],
      "authorship_tag": "ABX9TyO5FZhgrY5rpWVaAwOvoxjq",
      "include_colab_link": true
    },
    "kernelspec": {
      "name": "python3",
      "display_name": "Python 3"
    },
    "language_info": {
      "name": "python"
    },
    "accelerator": "GPU",
    "gpuClass": "standard"
  },
  "cells": [
    {
      "cell_type": "markdown",
      "metadata": {
        "id": "view-in-github",
        "colab_type": "text"
      },
      "source": [
        "<a href=\"https://colab.research.google.com/github/ddg93/JOposeAABB/blob/main/AABB_poseEstimation.ipynb\" target=\"_parent\"><img src=\"https://colab.research.google.com/assets/colab-badge.svg\" alt=\"Open In Colab\"/></a>"
      ]
    },
    {
      "cell_type": "code",
      "execution_count": 31,
      "metadata": {
        "id": "SqzvTbbVf2Gx"
      },
      "outputs": [],
      "source": [
        "# import useful modules\n",
        "import numpy as np\n",
        "import tensorflow as tf\n",
        "from sklearn.model_selection import train_test_split\n",
        "from keras.models import Sequential, Model\n",
        "from keras.layers import Dense, Input, GaussianNoise\n",
        "import matplotlib.pyplot as plt"
      ]
    },
    {
      "cell_type": "code",
      "source": [
        "#Check the version of TensorFlow you are using\n",
        "print(tf.__version__)\n",
        "print(tf.config.list_physical_devices('GPU'))"
      ],
      "metadata": {
        "colab": {
          "base_uri": "https://localhost:8080/"
        },
        "id": "SFNUkBPwghO0",
        "outputId": "1606befe-d8a0-4e24-b8f6-a6b3de64f574"
      },
      "execution_count": 6,
      "outputs": [
        {
          "output_type": "stream",
          "name": "stdout",
          "text": [
            "2.11.0\n",
            "[PhysicalDevice(name='/physical_device:GPU:0', device_type='GPU')]\n"
          ]
        }
      ]
    },
    {
      "cell_type": "code",
      "source": [
        "# download the AABB list for the CYL10 particle: fibre, r=9.01\n",
        "!gdown 1OUFkUHou1ZedKTZVm30gtnm3FTnjqZmq -O /boxlist.txt"
      ],
      "metadata": {
        "colab": {
          "base_uri": "https://localhost:8080/"
        },
        "id": "GOjpVgyjjYwg",
        "outputId": "33db358a-cb58-40a2-8b24-9ae0f7ceed7c"
      },
      "execution_count": 13,
      "outputs": [
        {
          "output_type": "stream",
          "name": "stdout",
          "text": [
            "Downloading...\n",
            "From: https://drive.google.com/uc?id=1OUFkUHou1ZedKTZVm30gtnm3FTnjqZmq\n",
            "To: /boxlist.txt\n",
            "\r  0% 0.00/29.2M [00:00<?, ?B/s]\r 41% 12.1M/29.2M [00:00<00:00, 119MB/s]\r100% 29.2M/29.2M [00:00<00:00, 180MB/s]\n"
          ]
        }
      ]
    },
    {
      "cell_type": "code",
      "source": [
        "# load the data from the file\n",
        "ref = np.loadtxt('/boxlist.txt') #load the virtual list of bounding boxes\n",
        "# separate the AABB components\n",
        "X = abs(ref[:,3:6])\n",
        "# and the two polar angles\n",
        "org_angls = ref[:,:2]\n",
        "# and the particle orientation vector\n",
        "Y = abs(ref[:,6:])"
      ],
      "metadata": {
        "id": "q8Jzq-5GjYzW"
      },
      "execution_count": 16,
      "outputs": []
    },
    {
      "cell_type": "code",
      "source": [
        "# split between training set and testing set\n",
        "X_train, X_test, Y_train, Y_test = train_test_split(X, Y, test_size=0.2, random_state=0)"
      ],
      "metadata": {
        "id": "fL1-itofkRh2"
      },
      "execution_count": 18,
      "outputs": []
    },
    {
      "cell_type": "code",
      "source": [
        "# define a custom norm-2 loss over the predicted values\n",
        "def custom_loss(y_true,y_pred):\n",
        "    # norm 2 of the difference between predicted and true particle orientation vectors \n",
        "    norm = tf.norm((y_true-y_pred),axis=-1)\n",
        "    loss = tf.math.reduce_sum(norm) #reduction sum\n",
        "    # add a penalty term that is non-zero if any component of the predicted orientation vector is lower than zero or greater than one\n",
        "    zero = tf.constant([0.0]) #define the zero constant value\n",
        "    penalty = tf.math.less(y_pred, zero) #calculate the penalty\n",
        "    pen = tf.math.reduce_sum(tf.cast(penalty,tf.int32)) #reduction sum\n",
        "    return loss + tf.cast(pen, tf.float32) #calculate the total loss"
      ],
      "metadata": {
        "id": "hOPLLl6_kRk7"
      },
      "execution_count": 19,
      "outputs": []
    },
    {
      "cell_type": "code",
      "source": [
        "# Build the model: input_size=3 (AABB); output size=3 (direction vector of the particle)\n",
        "input_layer = Input(shape=3)\n",
        "g_noise = GaussianNoise(0.1)(input_layer) #Gaussian noise\n",
        "dense_layer_1 = Dense(256, kernel_initializer='he_uniform', activation='relu')(g_noise) #1st dense layer\n",
        "dense_layer_2 = Dense(256, kernel_initializer='he_uniform', activation='relu')(dense_layer_1) #2nd dense layer\n",
        "dense_layer_3 = Dense(256, kernel_initializer='he_uniform', activation='relu')(dense_layer_2) #3rd dense layer\n",
        "small_dense = Dense(3)(dense_layer_3) #layer of size 3\n",
        "output = tf.keras.layers.Lambda(lambda x: tf.math.l2_normalize(x,axis=-1,epsilon=1e-12))(small_dense) #lambda layer to impose Euclideian norm = 1"
      ],
      "metadata": {
        "id": "hz3vQOelkRoE"
      },
      "execution_count": 26,
      "outputs": []
    },
    {
      "cell_type": "code",
      "source": [
        "# assemble the model\n",
        "model = Model(inputs=input_layer, outputs=output)\n",
        "# compile the model imposing the custom_loss\n",
        "model.compile(loss=custom_loss, optimizer=\"adam\", metrics=[\"accuracy\"])\n",
        "# report of the model\n",
        "model.summary()"
      ],
      "metadata": {
        "colab": {
          "base_uri": "https://localhost:8080/"
        },
        "id": "nz1lgb4skRqp",
        "outputId": "001ec7b6-c241-4556-bb8c-645f2cc946b2"
      },
      "execution_count": 27,
      "outputs": [
        {
          "output_type": "stream",
          "name": "stdout",
          "text": [
            "Model: \"model_1\"\n",
            "_________________________________________________________________\n",
            " Layer (type)                Output Shape              Param #   \n",
            "=================================================================\n",
            " input_2 (InputLayer)        [(None, 3)]               0         \n",
            "                                                                 \n",
            " gaussian_noise_1 (GaussianN  (None, 3)                0         \n",
            " oise)                                                           \n",
            "                                                                 \n",
            " dense_4 (Dense)             (None, 256)               1024      \n",
            "                                                                 \n",
            " dense_5 (Dense)             (None, 256)               65792     \n",
            "                                                                 \n",
            " dense_6 (Dense)             (None, 256)               65792     \n",
            "                                                                 \n",
            " dense_7 (Dense)             (None, 3)                 771       \n",
            "                                                                 \n",
            " lambda_1 (Lambda)           (None, 3)                 0         \n",
            "                                                                 \n",
            "=================================================================\n",
            "Total params: 133,379\n",
            "Trainable params: 133,379\n",
            "Non-trainable params: 0\n",
            "_________________________________________________________________\n"
          ]
        }
      ]
    },
    {
      "cell_type": "code",
      "source": [
        "# Fit the model\n",
        "model.fit(X_train, Y_train, epochs=10, batch_size=128,  verbose=1)\n",
        "# Calculate predictions\n",
        "# train set\n",
        "PredTestSet = model.predict(X_train)\n",
        "# test set\n",
        "PredValSet = model.predict(X_test)"
      ],
      "metadata": {
        "colab": {
          "base_uri": "https://localhost:8080/"
        },
        "id": "hOf7GsNjl1hU",
        "outputId": "b31c88be-21ec-4e21-a9ab-444082a292d7"
      },
      "execution_count": 28,
      "outputs": [
        {
          "output_type": "stream",
          "name": "stdout",
          "text": [
            "Epoch 1/10\n",
            "810/810 [==============================] - 4s 3ms/step - loss: 5.1938 - accuracy: 0.9837\n",
            "Epoch 2/10\n",
            "810/810 [==============================] - 3s 4ms/step - loss: 2.6483 - accuracy: 0.9938\n",
            "Epoch 3/10\n",
            "810/810 [==============================] - 3s 3ms/step - loss: 2.3922 - accuracy: 0.9940\n",
            "Epoch 4/10\n",
            "810/810 [==============================] - 3s 4ms/step - loss: 2.3258 - accuracy: 0.9937\n",
            "Epoch 5/10\n",
            "810/810 [==============================] - 3s 3ms/step - loss: 2.2791 - accuracy: 0.9943\n",
            "Epoch 6/10\n",
            "810/810 [==============================] - 3s 4ms/step - loss: 2.2581 - accuracy: 0.9938\n",
            "Epoch 7/10\n",
            "810/810 [==============================] - 3s 3ms/step - loss: 2.1800 - accuracy: 0.9940\n",
            "Epoch 8/10\n",
            "810/810 [==============================] - 3s 3ms/step - loss: 2.1359 - accuracy: 0.9943\n",
            "Epoch 9/10\n",
            "810/810 [==============================] - 3s 3ms/step - loss: 2.1632 - accuracy: 0.9946\n",
            "Epoch 10/10\n",
            "810/810 [==============================] - 3s 4ms/step - loss: 2.0991 - accuracy: 0.9945\n",
            "3240/3240 [==============================] - 6s 2ms/step\n",
            "810/810 [==============================] - 2s 2ms/step\n"
          ]
        }
      ]
    },
    {
      "cell_type": "code",
      "source": [
        "# store the test result\n",
        "res = []\n",
        "for i in range(X_test.shape[0]):\n",
        "    line = np.concatenate((X_test[i,:],Y_test[i,:],PredValSet[i,:]))\n",
        "    res.append(line)\n",
        "res = np.array(res)"
      ],
      "metadata": {
        "id": "EwnWLOrwmVE0"
      },
      "execution_count": 29,
      "outputs": []
    },
    {
      "cell_type": "code",
      "source": [
        "fig,axs = plt.subplots(1,3,figsize=(8,3),sharey=True)\n",
        "#plot the predicted and actual values of the three components \n",
        "# of the particle orientation vector\n",
        "#n1\n",
        "axs[0].scatter(Y_test[:,0],PredValSet[:,0],label=r'$\\mathit{predicted}$',c='deeppink')\n",
        "axs[0].plot(Y_test[:,0],Y_test[:,0],color='k',label=r'$\\mathit{actual}$',lw=3)\n",
        "#n2\n",
        "axs[1].scatter(Y_test[:,1],PredValSet[:,1],label=r'$\\mathit{predicted}$',c='deeppink')\n",
        "axs[1].plot(Y_test[:,1],Y_test[:,1],color='k',label=r'$\\mathit{actual}$',lw=3)\n",
        "#n3\n",
        "axs[2].scatter(Y_test[:,2],PredValSet[:,2],c='deeppink')\n",
        "axs[2].plot(Y_test[:,2],Y_test[:,2],color='k',lw=3)\n",
        "# Format\n",
        "axs[0].set_ylabel(r'$\\mathit{n_{i,pred}}$',fontsize=15,labelpad=15)\n",
        "axs[0].set_xlabel(r'$\\mathit{n_{1,test}}$',rotation=0,fontsize=15)\n",
        "axs[1].set_xlabel(r'$\\mathit{n_{2,test}}$',rotation=0,fontsize=15)\n",
        "axs[2].set_xlabel(r'$\\mathit{n_{3,test}}$',rotation=0,fontsize=15)\n",
        "# plot the legend\n",
        "axs[1].legend(bbox_to_anchor=(1.5,1.3),ncol=2,fontsize=15)"
      ],
      "metadata": {
        "colab": {
          "base_uri": "https://localhost:8080/",
          "height": 291
        },
        "id": "SQ2yd27tmYYg",
        "outputId": "3d7fdf75-e0c1-4434-f020-9137de0805a7"
      },
      "execution_count": 56,
      "outputs": [
        {
          "output_type": "execute_result",
          "data": {
            "text/plain": [
              "<matplotlib.legend.Legend at 0x7f29706479d0>"
            ]
          },
          "metadata": {},
          "execution_count": 56
        },
        {
          "output_type": "display_data",
          "data": {
            "text/plain": [
              "<Figure size 576x216 with 3 Axes>"
            ],
            "image/png": "[encoded data removed]"
          },
          "metadata": {
            "needs_background": "light"
          }
        }
      ]
    }
  ]
}